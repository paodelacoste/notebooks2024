{
 "cells": [
  {
   "cell_type": "markdown",
   "metadata": {},
   "source": [
    "# Como compartilhar meus notebooks?\n",
    "\n",
    "Git e Github : com essa parceria você pode compartilhar com o mundo seus notebooks\n",
    "\n",
    "1. criar uma conta \n",
    "2. criar um repositório\n",
    "3. instalar o Git\n",
    "4. sincronizar o local com o remoto (clone = download)\n",
    "5. subir o seu projeto \n",
    "\n",
    "links úteis:\n",
    "\n",
    "- git: https://www.git-scm.com/downloads\n",
    "- github: https://github.com"
   ]
  },
  {
   "cell_type": "markdown",
   "metadata": {},
   "source": [
    "# Comandos básicos do Git\n",
    "\n",
    "1. git init: inicializa o git \n",
    "2. git status: \"o que está acontecendo?\"\n",
    "2. git add .: adiciona arquivos \n",
    "3. git comit -m \"salvando arquivos\": salvar como "
   ]
  }
 ],
 "metadata": {
  "language_info": {
   "name": "python"
  }
 },
 "nbformat": 4,
 "nbformat_minor": 2
}
